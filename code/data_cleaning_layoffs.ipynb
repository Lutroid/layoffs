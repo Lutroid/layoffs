{
 "cells": [
  {
   "cell_type": "code",
   "execution_count": 2,
   "metadata": {},
   "outputs": [],
   "source": [
    "#Importación de librerias\n",
    "\n",
    "import pandas as pd\n",
    "import numpy as np\n",
    "pd.set_option('display.max_rows', None)"
   ]
  },
  {
   "cell_type": "code",
   "execution_count": 3,
   "metadata": {},
   "outputs": [],
   "source": [
    "# Importar datos\n",
    "layoffs = pd.read_csv('../data/layoffs.csv')"
   ]
  },
  {
   "cell_type": "markdown",
   "metadata": {},
   "source": [
    "## GENERAL VISION"
   ]
  },
  {
   "cell_type": "markdown",
   "metadata": {},
   "source": [
    "--------------------------------------------------------------------------------------------------------------------------------------------------"
   ]
  },
  {
   "cell_type": "code",
   "execution_count": 4,
   "metadata": {},
   "outputs": [
    {
     "data": {
      "text/html": [
       "<div>\n",
       "<style scoped>\n",
       "    .dataframe tbody tr th:only-of-type {\n",
       "        vertical-align: middle;\n",
       "    }\n",
       "\n",
       "    .dataframe tbody tr th {\n",
       "        vertical-align: top;\n",
       "    }\n",
       "\n",
       "    .dataframe thead th {\n",
       "        text-align: right;\n",
       "    }\n",
       "</style>\n",
       "<table border=\"1\" class=\"dataframe\">\n",
       "  <thead>\n",
       "    <tr style=\"text-align: right;\">\n",
       "      <th></th>\n",
       "      <th>company</th>\n",
       "      <th>location</th>\n",
       "      <th>industry</th>\n",
       "      <th>total_laid_off</th>\n",
       "      <th>percentage_laid_off</th>\n",
       "      <th>date</th>\n",
       "      <th>stage</th>\n",
       "      <th>country</th>\n",
       "      <th>funds_raised_millions</th>\n",
       "    </tr>\n",
       "  </thead>\n",
       "  <tbody>\n",
       "    <tr>\n",
       "      <th>0</th>\n",
       "      <td>Atlassian</td>\n",
       "      <td>Sydney</td>\n",
       "      <td>Other</td>\n",
       "      <td>500.0</td>\n",
       "      <td>0.05</td>\n",
       "      <td>3/6/2023</td>\n",
       "      <td>Post-IPO</td>\n",
       "      <td>Australia</td>\n",
       "      <td>210.0</td>\n",
       "    </tr>\n",
       "    <tr>\n",
       "      <th>1</th>\n",
       "      <td>SiriusXM</td>\n",
       "      <td>New York City</td>\n",
       "      <td>Media</td>\n",
       "      <td>475.0</td>\n",
       "      <td>0.08</td>\n",
       "      <td>3/6/2023</td>\n",
       "      <td>Post-IPO</td>\n",
       "      <td>United States</td>\n",
       "      <td>525.0</td>\n",
       "    </tr>\n",
       "    <tr>\n",
       "      <th>2</th>\n",
       "      <td>Alerzo</td>\n",
       "      <td>Ibadan</td>\n",
       "      <td>Retail</td>\n",
       "      <td>400.0</td>\n",
       "      <td>NaN</td>\n",
       "      <td>3/6/2023</td>\n",
       "      <td>Series B</td>\n",
       "      <td>Nigeria</td>\n",
       "      <td>16.0</td>\n",
       "    </tr>\n",
       "    <tr>\n",
       "      <th>3</th>\n",
       "      <td>UpGrad</td>\n",
       "      <td>Mumbai</td>\n",
       "      <td>Education</td>\n",
       "      <td>120.0</td>\n",
       "      <td>NaN</td>\n",
       "      <td>3/6/2023</td>\n",
       "      <td>Unknown</td>\n",
       "      <td>India</td>\n",
       "      <td>631.0</td>\n",
       "    </tr>\n",
       "    <tr>\n",
       "      <th>4</th>\n",
       "      <td>Loft</td>\n",
       "      <td>Sao Paulo</td>\n",
       "      <td>Real Estate</td>\n",
       "      <td>340.0</td>\n",
       "      <td>0.15</td>\n",
       "      <td>3/3/2023</td>\n",
       "      <td>Unknown</td>\n",
       "      <td>Brazil</td>\n",
       "      <td>788.0</td>\n",
       "    </tr>\n",
       "    <tr>\n",
       "      <th>5</th>\n",
       "      <td>Embark Trucks</td>\n",
       "      <td>SF Bay Area</td>\n",
       "      <td>Transportation</td>\n",
       "      <td>230.0</td>\n",
       "      <td>0.70</td>\n",
       "      <td>3/3/2023</td>\n",
       "      <td>Post-IPO</td>\n",
       "      <td>United States</td>\n",
       "      <td>317.0</td>\n",
       "    </tr>\n",
       "    <tr>\n",
       "      <th>6</th>\n",
       "      <td>Lendi</td>\n",
       "      <td>Sydney</td>\n",
       "      <td>Real Estate</td>\n",
       "      <td>100.0</td>\n",
       "      <td>NaN</td>\n",
       "      <td>3/3/2023</td>\n",
       "      <td>Unknown</td>\n",
       "      <td>Australia</td>\n",
       "      <td>59.0</td>\n",
       "    </tr>\n",
       "    <tr>\n",
       "      <th>7</th>\n",
       "      <td>UserTesting</td>\n",
       "      <td>SF Bay Area</td>\n",
       "      <td>Marketing</td>\n",
       "      <td>63.0</td>\n",
       "      <td>NaN</td>\n",
       "      <td>3/3/2023</td>\n",
       "      <td>Acquired</td>\n",
       "      <td>United States</td>\n",
       "      <td>152.0</td>\n",
       "    </tr>\n",
       "    <tr>\n",
       "      <th>8</th>\n",
       "      <td>Airbnb</td>\n",
       "      <td>SF Bay Area</td>\n",
       "      <td>NaN</td>\n",
       "      <td>30.0</td>\n",
       "      <td>NaN</td>\n",
       "      <td>3/3/2023</td>\n",
       "      <td>Post-IPO</td>\n",
       "      <td>United States</td>\n",
       "      <td>6400.0</td>\n",
       "    </tr>\n",
       "    <tr>\n",
       "      <th>9</th>\n",
       "      <td>Accolade</td>\n",
       "      <td>Seattle</td>\n",
       "      <td>Healthcare</td>\n",
       "      <td>NaN</td>\n",
       "      <td>NaN</td>\n",
       "      <td>3/3/2023</td>\n",
       "      <td>Post-IPO</td>\n",
       "      <td>United States</td>\n",
       "      <td>458.0</td>\n",
       "    </tr>\n",
       "    <tr>\n",
       "      <th>10</th>\n",
       "      <td>Indigo</td>\n",
       "      <td>Boston</td>\n",
       "      <td>Other</td>\n",
       "      <td>NaN</td>\n",
       "      <td>NaN</td>\n",
       "      <td>3/3/2023</td>\n",
       "      <td>Series F</td>\n",
       "      <td>United States.</td>\n",
       "      <td>1200.0</td>\n",
       "    </tr>\n",
       "    <tr>\n",
       "      <th>11</th>\n",
       "      <td>Zscaler</td>\n",
       "      <td>SF Bay Area</td>\n",
       "      <td>Security</td>\n",
       "      <td>177.0</td>\n",
       "      <td>0.03</td>\n",
       "      <td>3/2/2023</td>\n",
       "      <td>Post-IPO</td>\n",
       "      <td>United States</td>\n",
       "      <td>148.0</td>\n",
       "    </tr>\n",
       "    <tr>\n",
       "      <th>12</th>\n",
       "      <td>MasterClass</td>\n",
       "      <td>SF Bay Area</td>\n",
       "      <td>Education</td>\n",
       "      <td>79.0</td>\n",
       "      <td>NaN</td>\n",
       "      <td>3/2/2023</td>\n",
       "      <td>Series E</td>\n",
       "      <td>United States</td>\n",
       "      <td>461.0</td>\n",
       "    </tr>\n",
       "    <tr>\n",
       "      <th>13</th>\n",
       "      <td>Ambev Tech</td>\n",
       "      <td>Blumenau</td>\n",
       "      <td>Food</td>\n",
       "      <td>50.0</td>\n",
       "      <td>NaN</td>\n",
       "      <td>3/2/2023</td>\n",
       "      <td>Acquired</td>\n",
       "      <td>Brazil</td>\n",
       "      <td>NaN</td>\n",
       "    </tr>\n",
       "    <tr>\n",
       "      <th>14</th>\n",
       "      <td>Fittr</td>\n",
       "      <td>Pune</td>\n",
       "      <td>Fitness</td>\n",
       "      <td>30.0</td>\n",
       "      <td>0.11</td>\n",
       "      <td>3/2/2023</td>\n",
       "      <td>Series A</td>\n",
       "      <td>India</td>\n",
       "      <td>13.0</td>\n",
       "    </tr>\n",
       "    <tr>\n",
       "      <th>15</th>\n",
       "      <td>CNET</td>\n",
       "      <td>SF Bay Area</td>\n",
       "      <td>Media</td>\n",
       "      <td>12.0</td>\n",
       "      <td>0.10</td>\n",
       "      <td>3/2/2023</td>\n",
       "      <td>Acquired</td>\n",
       "      <td>United States</td>\n",
       "      <td>20.0</td>\n",
       "    </tr>\n",
       "    <tr>\n",
       "      <th>16</th>\n",
       "      <td>Flipkart</td>\n",
       "      <td>Bengaluru</td>\n",
       "      <td>Retail</td>\n",
       "      <td>NaN</td>\n",
       "      <td>NaN</td>\n",
       "      <td>3/2/2023</td>\n",
       "      <td>Acquired</td>\n",
       "      <td>India</td>\n",
       "      <td>12900.0</td>\n",
       "    </tr>\n",
       "    <tr>\n",
       "      <th>17</th>\n",
       "      <td>Kandela</td>\n",
       "      <td>Los Angeles</td>\n",
       "      <td>Consumer</td>\n",
       "      <td>NaN</td>\n",
       "      <td>1.00</td>\n",
       "      <td>3/2/2023</td>\n",
       "      <td>Acquired</td>\n",
       "      <td>United States</td>\n",
       "      <td>NaN</td>\n",
       "    </tr>\n",
       "    <tr>\n",
       "      <th>18</th>\n",
       "      <td>Truckstop.com</td>\n",
       "      <td>Boise</td>\n",
       "      <td>Logistics</td>\n",
       "      <td>NaN</td>\n",
       "      <td>NaN</td>\n",
       "      <td>3/2/2023</td>\n",
       "      <td>Acquired</td>\n",
       "      <td>United States</td>\n",
       "      <td>NaN</td>\n",
       "    </tr>\n",
       "    <tr>\n",
       "      <th>19</th>\n",
       "      <td>Thoughtworks</td>\n",
       "      <td>Chicago</td>\n",
       "      <td>Other</td>\n",
       "      <td>500.0</td>\n",
       "      <td>0.04</td>\n",
       "      <td>3/1/2023</td>\n",
       "      <td>Post-IPO</td>\n",
       "      <td>United States</td>\n",
       "      <td>748.0</td>\n",
       "    </tr>\n",
       "  </tbody>\n",
       "</table>\n",
       "</div>"
      ],
      "text/plain": [
       "          company       location        industry  total_laid_off  \\\n",
       "0       Atlassian         Sydney           Other           500.0   \n",
       "1        SiriusXM  New York City           Media           475.0   \n",
       "2          Alerzo         Ibadan          Retail           400.0   \n",
       "3          UpGrad         Mumbai       Education           120.0   \n",
       "4            Loft      Sao Paulo     Real Estate           340.0   \n",
       "5   Embark Trucks    SF Bay Area  Transportation           230.0   \n",
       "6           Lendi         Sydney     Real Estate           100.0   \n",
       "7     UserTesting    SF Bay Area       Marketing            63.0   \n",
       "8          Airbnb    SF Bay Area             NaN            30.0   \n",
       "9        Accolade        Seattle      Healthcare             NaN   \n",
       "10         Indigo         Boston           Other             NaN   \n",
       "11        Zscaler    SF Bay Area        Security           177.0   \n",
       "12    MasterClass    SF Bay Area       Education            79.0   \n",
       "13     Ambev Tech       Blumenau            Food            50.0   \n",
       "14          Fittr           Pune         Fitness            30.0   \n",
       "15           CNET    SF Bay Area           Media            12.0   \n",
       "16       Flipkart      Bengaluru          Retail             NaN   \n",
       "17        Kandela    Los Angeles        Consumer             NaN   \n",
       "18  Truckstop.com          Boise       Logistics             NaN   \n",
       "19   Thoughtworks        Chicago           Other           500.0   \n",
       "\n",
       "    percentage_laid_off      date     stage         country  \\\n",
       "0                  0.05  3/6/2023  Post-IPO       Australia   \n",
       "1                  0.08  3/6/2023  Post-IPO   United States   \n",
       "2                   NaN  3/6/2023  Series B         Nigeria   \n",
       "3                   NaN  3/6/2023   Unknown           India   \n",
       "4                  0.15  3/3/2023   Unknown          Brazil   \n",
       "5                  0.70  3/3/2023  Post-IPO   United States   \n",
       "6                   NaN  3/3/2023   Unknown       Australia   \n",
       "7                   NaN  3/3/2023  Acquired   United States   \n",
       "8                   NaN  3/3/2023  Post-IPO   United States   \n",
       "9                   NaN  3/3/2023  Post-IPO   United States   \n",
       "10                  NaN  3/3/2023  Series F  United States.   \n",
       "11                 0.03  3/2/2023  Post-IPO   United States   \n",
       "12                  NaN  3/2/2023  Series E   United States   \n",
       "13                  NaN  3/2/2023  Acquired          Brazil   \n",
       "14                 0.11  3/2/2023  Series A           India   \n",
       "15                 0.10  3/2/2023  Acquired   United States   \n",
       "16                  NaN  3/2/2023  Acquired           India   \n",
       "17                 1.00  3/2/2023  Acquired   United States   \n",
       "18                  NaN  3/2/2023  Acquired   United States   \n",
       "19                 0.04  3/1/2023  Post-IPO   United States   \n",
       "\n",
       "    funds_raised_millions  \n",
       "0                   210.0  \n",
       "1                   525.0  \n",
       "2                    16.0  \n",
       "3                   631.0  \n",
       "4                   788.0  \n",
       "5                   317.0  \n",
       "6                    59.0  \n",
       "7                   152.0  \n",
       "8                  6400.0  \n",
       "9                   458.0  \n",
       "10                 1200.0  \n",
       "11                  148.0  \n",
       "12                  461.0  \n",
       "13                    NaN  \n",
       "14                   13.0  \n",
       "15                   20.0  \n",
       "16                12900.0  \n",
       "17                    NaN  \n",
       "18                    NaN  \n",
       "19                  748.0  "
      ]
     },
     "execution_count": 4,
     "metadata": {},
     "output_type": "execute_result"
    }
   ],
   "source": [
    "layoffs.head(20)"
   ]
  },
  {
   "cell_type": "code",
   "execution_count": 5,
   "metadata": {},
   "outputs": [
    {
     "name": "stdout",
     "output_type": "stream",
     "text": [
      "<class 'pandas.core.frame.DataFrame'>\n",
      "RangeIndex: 2361 entries, 0 to 2360\n",
      "Data columns (total 9 columns):\n",
      " #   Column                 Non-Null Count  Dtype  \n",
      "---  ------                 --------------  -----  \n",
      " 0   company                2361 non-null   object \n",
      " 1   location               2361 non-null   object \n",
      " 2   industry               2357 non-null   object \n",
      " 3   total_laid_off         1621 non-null   float64\n",
      " 4   percentage_laid_off    1576 non-null   float64\n",
      " 5   date                   2360 non-null   object \n",
      " 6   stage                  2355 non-null   object \n",
      " 7   country                2361 non-null   object \n",
      " 8   funds_raised_millions  2152 non-null   float64\n",
      "dtypes: float64(3), object(6)\n",
      "memory usage: 965.0 KB\n"
     ]
    }
   ],
   "source": [
    "layoffs.info(memory_usage='deep')"
   ]
  },
  {
   "cell_type": "code",
   "execution_count": 6,
   "metadata": {},
   "outputs": [
    {
     "data": {
      "text/plain": [
       "2361"
      ]
     },
     "execution_count": 6,
     "metadata": {},
     "output_type": "execute_result"
    }
   ],
   "source": [
    "len(layoffs) # Check number of rows before removing duplicates"
   ]
  },
  {
   "cell_type": "markdown",
   "metadata": {},
   "source": [
    "## CLEANING THE DATA"
   ]
  },
  {
   "cell_type": "markdown",
   "metadata": {},
   "source": [
    "--------------------------------------------------------------------------------------------------------------------------------------------------"
   ]
  },
  {
   "cell_type": "markdown",
   "metadata": {},
   "source": [
    "## 1. Duplicates"
   ]
  },
  {
   "cell_type": "code",
   "execution_count": 7,
   "metadata": {},
   "outputs": [
    {
     "data": {
      "text/plain": [
       "2356"
      ]
     },
     "execution_count": 7,
     "metadata": {},
     "output_type": "execute_result"
    }
   ],
   "source": [
    "layoffs.drop_duplicates(inplace=True) # Remove duplicates\n",
    "len(layoffs)# Check new number of rows"
   ]
  },
  {
   "cell_type": "code",
   "execution_count": 8,
   "metadata": {},
   "outputs": [
    {
     "data": {
      "text/plain": [
       "0"
      ]
     },
     "execution_count": 8,
     "metadata": {},
     "output_type": "execute_result"
    }
   ],
   "source": [
    "layoffs.duplicated().sum() # Check whether a row is a duplicated version of a previous row"
   ]
  },
  {
   "cell_type": "markdown",
   "metadata": {},
   "source": [
    "## 2. Standarize"
   ]
  },
  {
   "cell_type": "markdown",
   "metadata": {},
   "source": [
    "--------------------------------------------------------------------------------------------------------------------------------------------------"
   ]
  },
  {
   "cell_type": "markdown",
   "metadata": {},
   "source": [
    "Escribir una función que estandarize el texto de las columnas texto. La función debería:\n",
    "    Remover whitespaces, Lowercase characters, Remover números, Remover puntuacion"
   ]
  },
  {
   "cell_type": "code",
   "execution_count": 9,
   "metadata": {},
   "outputs": [],
   "source": [
    "# %pip install thefuzz\n",
    "# %pip show thefuzz\n"
   ]
  },
  {
   "cell_type": "code",
   "execution_count": 10,
   "metadata": {},
   "outputs": [],
   "source": [
    "# Función para encontrar y unificar nombres similares\n",
    "\n",
    "from thefuzz import fuzz\n",
    "from thefuzz import process\n",
    "\n",
    "# Crear una lista de nombres únicos de compañías\n",
    "unique_companies = layoffs['company'].unique()\n",
    "\n",
    "def unify_company_names(company_name, unique_names, threshold=80):\n",
    "    match = process.extractOne(company_name, unique_names, scorer=fuzz.ratio)\n",
    "    if match[1] >= threshold:\n",
    "        return match[0]\n",
    "    return company_name\n",
    "\n",
    "# Aplicar la función para unificar nombres en la columna 'company'\n",
    "layoffs['company'] = layoffs['company'].apply(lambda x: unify_company_names(x, unique_companies))"
   ]
  },
  {
   "cell_type": "code",
   "execution_count": 11,
   "metadata": {},
   "outputs": [
    {
     "data": {
      "text/plain": [
       "array(['Other', 'Media', 'Retail', 'Education', 'Real Estate',\n",
       "       'Transportation', 'Marketing', nan, 'Healthcare', 'Security',\n",
       "       'Food', 'Fitness', 'Consumer', 'Logistics', 'HR', 'Support',\n",
       "       'Travel', 'Crypto', 'Finance', 'Data', 'Sales', 'Infrastructure',\n",
       "       'Hardware', 'Product', 'Construction', 'Legal', 'Energy',\n",
       "       'Manufacturing', 'Recruiting', 'Aerospace', 'Crypto Currency',\n",
       "       'Fin-Tech', 'CryptoCurrency'], dtype=object)"
      ]
     },
     "execution_count": 11,
     "metadata": {},
     "output_type": "execute_result"
    }
   ],
   "source": [
    "layoffs['industry'].unique()"
   ]
  },
  {
   "cell_type": "code",
   "execution_count": 12,
   "metadata": {},
   "outputs": [],
   "source": [
    "layoffs['industry'] = layoffs['industry'].replace({'.*Crypto.*': 'Crypto'}, regex=True)"
   ]
  },
  {
   "cell_type": "markdown",
   "metadata": {},
   "source": [
    "## 3. Remove null or blank values"
   ]
  },
  {
   "cell_type": "code",
   "execution_count": 13,
   "metadata": {},
   "outputs": [
    {
     "data": {
      "text/plain": [
       "percentage_laid_off      784\n",
       "total_laid_off           739\n",
       "funds_raised_millions    209\n",
       "stage                      6\n",
       "industry                   4\n",
       "date                       1\n",
       "company                    0\n",
       "location                   0\n",
       "country                    0\n",
       "dtype: int64"
      ]
     },
     "execution_count": 13,
     "metadata": {},
     "output_type": "execute_result"
    }
   ],
   "source": [
    "# Counting the number of NaN for each column\n",
    "layoffs.isnull().sum().sort_values(ascending=False)"
   ]
  },
  {
   "cell_type": "code",
   "execution_count": 14,
   "metadata": {},
   "outputs": [
    {
     "data": {
      "text/plain": [
       "percentage_laid_off      0.332767\n",
       "total_laid_off           0.313667\n",
       "funds_raised_millions    0.088710\n",
       "stage                    0.002547\n",
       "industry                 0.001698\n",
       "date                     0.000424\n",
       "company                  0.000000\n",
       "location                 0.000000\n",
       "country                  0.000000\n",
       "dtype: float64"
      ]
     },
     "execution_count": 14,
     "metadata": {},
     "output_type": "execute_result"
    }
   ],
   "source": [
    "# Counting the percentage of NaN for each column\n",
    "layoffs.isnull().sum().sort_values(ascending=False)/len(layoffs) #NaN percentage for each column\n"
   ]
  },
  {
   "cell_type": "markdown",
   "metadata": {},
   "source": [
    "#  Reemplazar los valores faltantes con la media, mediana o moda"
   ]
  },
  {
   "cell_type": "markdown",
   "metadata": {},
   "source": [
    "--------------------------------------------------------------------------------------------------------------------------------------------------"
   ]
  },
  {
   "cell_type": "code",
   "execution_count": 15,
   "metadata": {},
   "outputs": [
    {
     "data": {
      "text/plain": [
       "company                    0\n",
       "location                   0\n",
       "industry                   4\n",
       "total_laid_off           739\n",
       "percentage_laid_off      784\n",
       "date                       1\n",
       "stage                      6\n",
       "country                    0\n",
       "funds_raised_millions    209\n",
       "dtype: int64"
      ]
     },
     "execution_count": 15,
     "metadata": {},
     "output_type": "execute_result"
    }
   ],
   "source": [
    "layoffs.isnull().sum()"
   ]
  },
  {
   "cell_type": "code",
   "execution_count": 16,
   "metadata": {},
   "outputs": [],
   "source": [
    "#Drop rows where value is missing\n",
    "layoffs.dropna(subset=['stage'], inplace=True)\n",
    "layoffs.dropna(subset=['industry'], inplace=True)\n",
    "layoffs.dropna(subset=['funds_raised_millions'], inplace=True)"
   ]
  },
  {
   "cell_type": "code",
   "execution_count": 17,
   "metadata": {},
   "outputs": [],
   "source": [
    "#Replace missing values with median, mean, mode\n",
    "layoffs['total_laid_off'].fillna(layoffs['total_laid_off'].mode()[0], inplace=True)\n",
    "layoffs['percentage_laid_off'].fillna(layoffs['percentage_laid_off'].mode()[0], inplace=True)"
   ]
  },
  {
   "cell_type": "code",
   "execution_count": 18,
   "metadata": {},
   "outputs": [
    {
     "data": {
      "text/plain": [
       "(2141, 9)"
      ]
     },
     "execution_count": 18,
     "metadata": {},
     "output_type": "execute_result"
    }
   ],
   "source": [
    "layoffs.shape"
   ]
  },
  {
   "cell_type": "code",
   "execution_count": 19,
   "metadata": {},
   "outputs": [
    {
     "data": {
      "text/html": [
       "<div>\n",
       "<style scoped>\n",
       "    .dataframe tbody tr th:only-of-type {\n",
       "        vertical-align: middle;\n",
       "    }\n",
       "\n",
       "    .dataframe tbody tr th {\n",
       "        vertical-align: top;\n",
       "    }\n",
       "\n",
       "    .dataframe thead th {\n",
       "        text-align: right;\n",
       "    }\n",
       "</style>\n",
       "<table border=\"1\" class=\"dataframe\">\n",
       "  <thead>\n",
       "    <tr style=\"text-align: right;\">\n",
       "      <th></th>\n",
       "      <th>count</th>\n",
       "      <th>mean</th>\n",
       "      <th>std</th>\n",
       "      <th>min</th>\n",
       "      <th>25%</th>\n",
       "      <th>50%</th>\n",
       "      <th>75%</th>\n",
       "      <th>max</th>\n",
       "    </tr>\n",
       "  </thead>\n",
       "  <tbody>\n",
       "    <tr>\n",
       "      <th>total_laid_off</th>\n",
       "      <td>2141.0</td>\n",
       "      <td>185.884633</td>\n",
       "      <td>622.517733</td>\n",
       "      <td>3.0</td>\n",
       "      <td>50.0</td>\n",
       "      <td>100.0</td>\n",
       "      <td>110.0</td>\n",
       "      <td>12000.0</td>\n",
       "    </tr>\n",
       "    <tr>\n",
       "      <th>percentage_laid_off</th>\n",
       "      <td>2141.0</td>\n",
       "      <td>0.201456</td>\n",
       "      <td>0.215037</td>\n",
       "      <td>0.0</td>\n",
       "      <td>0.1</td>\n",
       "      <td>0.1</td>\n",
       "      <td>0.2</td>\n",
       "      <td>1.0</td>\n",
       "    </tr>\n",
       "    <tr>\n",
       "      <th>funds_raised_millions</th>\n",
       "      <td>2141.0</td>\n",
       "      <td>818.788088</td>\n",
       "      <td>5606.534076</td>\n",
       "      <td>0.0</td>\n",
       "      <td>50.0</td>\n",
       "      <td>156.0</td>\n",
       "      <td>441.0</td>\n",
       "      <td>121900.0</td>\n",
       "    </tr>\n",
       "  </tbody>\n",
       "</table>\n",
       "</div>"
      ],
      "text/plain": [
       "                        count        mean          std  min   25%    50%  \\\n",
       "total_laid_off         2141.0  185.884633   622.517733  3.0  50.0  100.0   \n",
       "percentage_laid_off    2141.0    0.201456     0.215037  0.0   0.1    0.1   \n",
       "funds_raised_millions  2141.0  818.788088  5606.534076  0.0  50.0  156.0   \n",
       "\n",
       "                         75%       max  \n",
       "total_laid_off         110.0   12000.0  \n",
       "percentage_laid_off      0.2       1.0  \n",
       "funds_raised_millions  441.0  121900.0  "
      ]
     },
     "execution_count": 19,
     "metadata": {},
     "output_type": "execute_result"
    }
   ],
   "source": [
    "layoffs.describe().T"
   ]
  },
  {
   "cell_type": "markdown",
   "metadata": {},
   "source": [
    "# EXPLORATORY DATA ANALYSIS"
   ]
  },
  {
   "cell_type": "code",
   "execution_count": 22,
   "metadata": {},
   "outputs": [],
   "source": [
    "layoffs['total_laid_off'] = layoffs['total_laid_off'].astype('int64')\n",
    "layoffs['percentage_laid_off'] = layoffs['percentage_laid_off'].astype('float64')\n",
    "layoffs['funds_raised_millions'] = layoffs['funds_raised_millions'].astype('float64')\n",
    "layoffs['date'] = pd.to_datetime(layoffs['date'])"
   ]
  },
  {
   "cell_type": "code",
   "execution_count": 23,
   "metadata": {},
   "outputs": [],
   "source": [
    "layoffs.to_csv('layoffs_clean.csv', index=False, decimal=',')"
   ]
  },
  {
   "cell_type": "code",
   "execution_count": null,
   "metadata": {},
   "outputs": [],
   "source": []
  }
 ],
 "metadata": {
  "kernelspec": {
   "display_name": "Python 3",
   "language": "python",
   "name": "python3"
  },
  "language_info": {
   "codemirror_mode": {
    "name": "ipython",
    "version": 3
   },
   "file_extension": ".py",
   "mimetype": "text/x-python",
   "name": "python",
   "nbconvert_exporter": "python",
   "pygments_lexer": "ipython3",
   "version": "3.10.6"
  }
 },
 "nbformat": 4,
 "nbformat_minor": 2
}
